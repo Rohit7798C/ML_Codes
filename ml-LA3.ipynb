{
 "cells": [
  {
   "cell_type": "code",
   "execution_count": 14,
   "id": "0f52b168",
   "metadata": {},
   "outputs": [],
   "source": [
    "import pandas as pd"
   ]
  },
  {
   "cell_type": "code",
   "execution_count": 15,
   "id": "b6b67e9b",
   "metadata": {},
   "outputs": [],
   "source": [
    "data=pd.read_csv('churn_modelling.csv')"
   ]
  },
  {
   "cell_type": "code",
   "execution_count": 16,
   "id": "c0d560ad",
   "metadata": {},
   "outputs": [],
   "source": [
    "from sklearn.model_selection import train_test_split"
   ]
  },
  {
   "cell_type": "code",
   "execution_count": 17,
   "id": "8f139c07",
   "metadata": {},
   "outputs": [],
   "source": [
    "X = data.drop(['RowNumber','CustomerId','Surname','Exited'],axis=1)\n",
    "y=data['Exited']"
   ]
  },
  {
   "cell_type": "code",
   "execution_count": 18,
   "id": "7967f40b",
   "metadata": {},
   "outputs": [],
   "source": [
    "X=pd.get_dummies(X, drop_first=True)"
   ]
  },
  {
   "cell_type": "code",
   "execution_count": 19,
   "id": "57d61f2a",
   "metadata": {},
   "outputs": [],
   "source": [
    "X_train,X_test,y_train,y_test = train_test_split(X,y,test_size=0.2,random_state=42)"
   ]
  },
  {
   "cell_type": "code",
   "execution_count": 20,
   "id": "8158cfcb",
   "metadata": {},
   "outputs": [],
   "source": [
    "from sklearn.preprocessing import StandardScaler"
   ]
  },
  {
   "cell_type": "code",
   "execution_count": 21,
   "id": "446c7e56",
   "metadata": {},
   "outputs": [],
   "source": [
    "scaler=StandardScaler()\n",
    "\n",
    "X_train_scaled = scaler.fit_transform(X_train)\n",
    "\n",
    "X_test_scaled=scaler.transform(X_test)"
   ]
  },
  {
   "cell_type": "code",
   "execution_count": 22,
   "id": "a679d9f2",
   "metadata": {},
   "outputs": [],
   "source": [
    "import tensorflow as tf\n",
    "from tensorflow.keras.models import Sequential\n",
    "from tensorflow.keras.layers import Dense"
   ]
  },
  {
   "cell_type": "code",
   "execution_count": 23,
   "id": "1debbf5e",
   "metadata": {},
   "outputs": [],
   "source": [
    "model= Sequential()\n",
    "model.add(Dense(16,input_dim=X_train_scaled.shape[1],activation='relu'))\n",
    "model.add(Dense(8, activation='relu'))\n",
    "model.add(Dense(1, activation='sigmoid'))\n"
   ]
  },
  {
   "cell_type": "code",
   "execution_count": 26,
   "id": "43240b40",
   "metadata": {},
   "outputs": [],
   "source": [
    "model.compile(optimizer='adam', loss='binary_crossentropy', metrics=['accuracy'])"
   ]
  },
  {
   "cell_type": "code",
   "execution_count": 27,
   "id": "e1a25fa1",
   "metadata": {},
   "outputs": [
    {
     "name": "stdout",
     "output_type": "stream",
     "text": [
      "Epoch 1/20\n",
      "WARNING:tensorflow:From C:\\Users\\abhit\\anaconda3\\Lib\\site-packages\\keras\\src\\utils\\tf_utils.py:492: The name tf.ragged.RaggedTensorValue is deprecated. Please use tf.compat.v1.ragged.RaggedTensorValue instead.\n",
      "\n",
      "WARNING:tensorflow:From C:\\Users\\abhit\\anaconda3\\Lib\\site-packages\\keras\\src\\engine\\base_layer_utils.py:384: The name tf.executing_eagerly_outside_functions is deprecated. Please use tf.compat.v1.executing_eagerly_outside_functions instead.\n",
      "\n",
      "200/200 [==============================] - 2s 4ms/step - loss: 0.5711 - accuracy: 0.7216 - val_loss: 0.4663 - val_accuracy: 0.8012\n",
      "Epoch 2/20\n",
      "200/200 [==============================] - 1s 3ms/step - loss: 0.4501 - accuracy: 0.8012 - val_loss: 0.4164 - val_accuracy: 0.8188\n",
      "Epoch 3/20\n",
      "200/200 [==============================] - 1s 3ms/step - loss: 0.4188 - accuracy: 0.8188 - val_loss: 0.3957 - val_accuracy: 0.8275\n",
      "Epoch 4/20\n",
      "200/200 [==============================] - 1s 3ms/step - loss: 0.3984 - accuracy: 0.8328 - val_loss: 0.3803 - val_accuracy: 0.8344\n",
      "Epoch 5/20\n",
      "200/200 [==============================] - 1s 3ms/step - loss: 0.3814 - accuracy: 0.8413 - val_loss: 0.3687 - val_accuracy: 0.8388\n",
      "Epoch 6/20\n",
      "200/200 [==============================] - 1s 3ms/step - loss: 0.3699 - accuracy: 0.8469 - val_loss: 0.3617 - val_accuracy: 0.8419\n",
      "Epoch 7/20\n",
      "200/200 [==============================] - 1s 3ms/step - loss: 0.3607 - accuracy: 0.8511 - val_loss: 0.3573 - val_accuracy: 0.8444\n",
      "Epoch 8/20\n",
      "200/200 [==============================] - 1s 3ms/step - loss: 0.3553 - accuracy: 0.8545 - val_loss: 0.3543 - val_accuracy: 0.8462\n",
      "Epoch 9/20\n",
      "200/200 [==============================] - 1s 3ms/step - loss: 0.3511 - accuracy: 0.8561 - val_loss: 0.3538 - val_accuracy: 0.8456\n",
      "Epoch 10/20\n",
      "200/200 [==============================] - 1s 3ms/step - loss: 0.3483 - accuracy: 0.8572 - val_loss: 0.3509 - val_accuracy: 0.8506\n",
      "Epoch 11/20\n",
      "200/200 [==============================] - 1s 3ms/step - loss: 0.3462 - accuracy: 0.8591 - val_loss: 0.3493 - val_accuracy: 0.8512\n",
      "Epoch 12/20\n",
      "200/200 [==============================] - 1s 3ms/step - loss: 0.3447 - accuracy: 0.8611 - val_loss: 0.3489 - val_accuracy: 0.8487\n",
      "Epoch 13/20\n",
      "200/200 [==============================] - 1s 3ms/step - loss: 0.3421 - accuracy: 0.8586 - val_loss: 0.3527 - val_accuracy: 0.8481\n",
      "Epoch 14/20\n",
      "200/200 [==============================] - 1s 3ms/step - loss: 0.3417 - accuracy: 0.8597 - val_loss: 0.3491 - val_accuracy: 0.8519\n",
      "Epoch 15/20\n",
      "200/200 [==============================] - 0s 2ms/step - loss: 0.3404 - accuracy: 0.8603 - val_loss: 0.3492 - val_accuracy: 0.8500\n",
      "Epoch 16/20\n",
      "200/200 [==============================] - 0s 2ms/step - loss: 0.3395 - accuracy: 0.8602 - val_loss: 0.3480 - val_accuracy: 0.8525\n",
      "Epoch 17/20\n",
      "200/200 [==============================] - 1s 3ms/step - loss: 0.3389 - accuracy: 0.8597 - val_loss: 0.3486 - val_accuracy: 0.8519\n",
      "Epoch 18/20\n",
      "200/200 [==============================] - 1s 3ms/step - loss: 0.3380 - accuracy: 0.8617 - val_loss: 0.3485 - val_accuracy: 0.8500\n",
      "Epoch 19/20\n",
      "200/200 [==============================] - 1s 3ms/step - loss: 0.3376 - accuracy: 0.8594 - val_loss: 0.3483 - val_accuracy: 0.8544\n",
      "Epoch 20/20\n",
      "200/200 [==============================] - 0s 2ms/step - loss: 0.3364 - accuracy: 0.8612 - val_loss: 0.3487 - val_accuracy: 0.8525\n"
     ]
    },
    {
     "data": {
      "text/plain": [
       "<keras.src.callbacks.History at 0x17816198850>"
      ]
     },
     "execution_count": 27,
     "metadata": {},
     "output_type": "execute_result"
    }
   ],
   "source": [
    "model.fit(X_train_scaled, y_train, epochs=20, batch_size=32, validation_split=0.2)"
   ]
  },
  {
   "cell_type": "code",
   "execution_count": 28,
   "id": "70d04bcf",
   "metadata": {},
   "outputs": [],
   "source": [
    "from sklearn.metrics import confusion_matrix, accuracy_score"
   ]
  },
  {
   "cell_type": "code",
   "execution_count": 29,
   "id": "35958ff2",
   "metadata": {},
   "outputs": [
    {
     "name": "stdout",
     "output_type": "stream",
     "text": [
      "63/63 [==============================] - 0s 1ms/step\n"
     ]
    }
   ],
   "source": [
    "y_pred = model.predict(X_test_scaled)\n",
    "y_pred = (y_pred > 0.5)"
   ]
  },
  {
   "cell_type": "code",
   "execution_count": 30,
   "id": "5ffb9398",
   "metadata": {},
   "outputs": [],
   "source": [
    "accuracy = accuracy_score(y_test, y_pred)\n",
    "cm = confusion_matrix(y_test, y_pred)\n"
   ]
  },
  {
   "cell_type": "code",
   "execution_count": 31,
   "id": "83e44e38",
   "metadata": {},
   "outputs": [
    {
     "name": "stdout",
     "output_type": "stream",
     "text": [
      "Accuracy: 0.855\n",
      "Confusion Matrix:\n",
      "[[1538   69]\n",
      " [ 221  172]]\n"
     ]
    }
   ],
   "source": [
    "print(f'Accuracy: {accuracy}')\n",
    "print(f'Confusion Matrix:\\n{cm}')"
   ]
  },
  {
   "cell_type": "code",
   "execution_count": 32,
   "id": "02ba80ab",
   "metadata": {},
   "outputs": [],
   "source": [
    "model = Sequential()\n",
    "model.add(Dense(16, input_dim=X_train_scaled.shape[1], activation='tanh'))  \n",
    "model.add(Dense(8, activation='sigmoid'))  \n",
    "model.add(Dense(1, activation='sigmoid'))"
   ]
  },
  {
   "cell_type": "code",
   "execution_count": 33,
   "id": "40d00cd5",
   "metadata": {},
   "outputs": [
    {
     "name": "stdout",
     "output_type": "stream",
     "text": [
      "Epoch 1/20\n",
      "200/200 [==============================] - 1s 3ms/step - loss: 0.9230 - accuracy: 0.2770 - val_loss: 0.6712 - val_accuracy: 0.5987\n",
      "Epoch 2/20\n",
      "200/200 [==============================] - 1s 3ms/step - loss: 0.5527 - accuracy: 0.7616 - val_loss: 0.4710 - val_accuracy: 0.8156\n",
      "Epoch 3/20\n",
      "200/200 [==============================] - 1s 3ms/step - loss: 0.4569 - accuracy: 0.8127 - val_loss: 0.4334 - val_accuracy: 0.8256\n",
      "Epoch 4/20\n",
      "200/200 [==============================] - 1s 3ms/step - loss: 0.4362 - accuracy: 0.8161 - val_loss: 0.4224 - val_accuracy: 0.8313\n",
      "Epoch 5/20\n",
      "200/200 [==============================] - 1s 3ms/step - loss: 0.4276 - accuracy: 0.8181 - val_loss: 0.4160 - val_accuracy: 0.8325\n",
      "Epoch 6/20\n",
      "200/200 [==============================] - 0s 2ms/step - loss: 0.4204 - accuracy: 0.8211 - val_loss: 0.4104 - val_accuracy: 0.8331\n",
      "Epoch 7/20\n",
      "200/200 [==============================] - 1s 3ms/step - loss: 0.4134 - accuracy: 0.8245 - val_loss: 0.4044 - val_accuracy: 0.8356\n",
      "Epoch 8/20\n",
      "200/200 [==============================] - 0s 2ms/step - loss: 0.4060 - accuracy: 0.8284 - val_loss: 0.3965 - val_accuracy: 0.8375\n",
      "Epoch 9/20\n",
      "200/200 [==============================] - 0s 2ms/step - loss: 0.3983 - accuracy: 0.8316 - val_loss: 0.3894 - val_accuracy: 0.8406\n",
      "Epoch 10/20\n",
      "200/200 [==============================] - 0s 2ms/step - loss: 0.3905 - accuracy: 0.8370 - val_loss: 0.3827 - val_accuracy: 0.8419\n",
      "Epoch 11/20\n",
      "200/200 [==============================] - 0s 2ms/step - loss: 0.3830 - accuracy: 0.8400 - val_loss: 0.3759 - val_accuracy: 0.8475\n",
      "Epoch 12/20\n",
      "200/200 [==============================] - 0s 2ms/step - loss: 0.3763 - accuracy: 0.8444 - val_loss: 0.3691 - val_accuracy: 0.8519\n",
      "Epoch 13/20\n",
      "200/200 [==============================] - 1s 3ms/step - loss: 0.3699 - accuracy: 0.8503 - val_loss: 0.3647 - val_accuracy: 0.8500\n",
      "Epoch 14/20\n",
      "200/200 [==============================] - 0s 2ms/step - loss: 0.3652 - accuracy: 0.8534 - val_loss: 0.3600 - val_accuracy: 0.8512\n",
      "Epoch 15/20\n",
      "200/200 [==============================] - 1s 3ms/step - loss: 0.3606 - accuracy: 0.8545 - val_loss: 0.3583 - val_accuracy: 0.8469\n",
      "Epoch 16/20\n",
      "200/200 [==============================] - 0s 2ms/step - loss: 0.3575 - accuracy: 0.8552 - val_loss: 0.3543 - val_accuracy: 0.8531\n",
      "Epoch 17/20\n",
      "200/200 [==============================] - 1s 3ms/step - loss: 0.3545 - accuracy: 0.8564 - val_loss: 0.3523 - val_accuracy: 0.8512\n",
      "Epoch 18/20\n",
      "200/200 [==============================] - 0s 1ms/step - loss: 0.3519 - accuracy: 0.8581 - val_loss: 0.3491 - val_accuracy: 0.8531\n",
      "Epoch 19/20\n",
      "200/200 [==============================] - 0s 2ms/step - loss: 0.3492 - accuracy: 0.8609 - val_loss: 0.3480 - val_accuracy: 0.8494\n",
      "Epoch 20/20\n",
      "200/200 [==============================] - 0s 2ms/step - loss: 0.3476 - accuracy: 0.8603 - val_loss: 0.3467 - val_accuracy: 0.8494\n"
     ]
    },
    {
     "data": {
      "text/plain": [
       "<keras.src.callbacks.History at 0x17818794550>"
      ]
     },
     "execution_count": 33,
     "metadata": {},
     "output_type": "execute_result"
    }
   ],
   "source": [
    "model.compile(optimizer='adam', loss='binary_crossentropy', metrics=['accuracy'])\n",
    "model.fit(X_train_scaled, y_train, epochs=20, batch_size=32, validation_split=0.2)"
   ]
  },
  {
   "cell_type": "code",
   "execution_count": null,
   "id": "643e3fd3",
   "metadata": {},
   "outputs": [],
   "source": []
  }
 ],
 "metadata": {
  "kernelspec": {
   "display_name": "Python 3 (ipykernel)",
   "language": "python",
   "name": "python3"
  },
  "language_info": {
   "codemirror_mode": {
    "name": "ipython",
    "version": 3
   },
   "file_extension": ".py",
   "mimetype": "text/x-python",
   "name": "python",
   "nbconvert_exporter": "python",
   "pygments_lexer": "ipython3",
   "version": "3.11.5"
  }
 },
 "nbformat": 4,
 "nbformat_minor": 5
}
